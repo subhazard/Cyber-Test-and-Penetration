{
 "cells": [
  {
   "cell_type": "markdown",
   "metadata": {},
   "source": [
    "# 1: Pre-engagement Activities"
   ]
  },
  {
   "cell_type": "markdown",
   "metadata": {},
   "source": [
    "## Core Readings"
   ]
  },
  {
   "cell_type": "markdown",
   "metadata": {},
   "source": [
    "1. PEN – ch. 1"
   ]
  },
  {
   "cell_type": "markdown",
   "metadata": {},
   "source": [
    "## Supplemental Materials"
   ]
  },
  {
   "cell_type": "markdown",
   "metadata": {},
   "source": [
    "### SM1. CSIA 440 Scenario Overview (1)"
   ]
  },
  {
   "cell_type": "markdown",
   "metadata": {},
   "source": [
    "Our penetration testing work is dependent on the use of a sample company.\n",
    "\n",
    "You may choose one of the following options, in order of preference:\n",
    "\n",
    "1. Use your current employer.\n",
    "2. Create a fictitious company.\n",
    "3. Use a company that you are familiar with.\n",
    "\n",
    "Any of these will work quite well, but if possible, you may find that using your place of employment provides some additional benefits.\n",
    "\n",
    "**(!!) NOTE: ALL lab exercises MUST be done within the virtual lab environment**\n",
    "\n",
    "We will implement and configure this virtual lab the first week. "
   ]
  },
  {
   "cell_type": "markdown",
   "metadata": {},
   "source": [
    "### SM2. Rebound Security Overview"
   ]
  },
  {
   "cell_type": "markdown",
   "metadata": {},
   "source": [
    "Rebound Security (http://reboundsecurity.info) is a local company that makes a data-loss prevention appliance (**Rebound_DLP**) that your company has used for years.  By contract, this appliance is supported and updated by the vendor, but its security posture has never been assessed or tested.\n",
    "\n",
    "For this class, you will assess the security of the appliance by performing a phased penetration test on **Rebound_DLP**."
   ]
  },
  {
   "cell_type": "markdown",
   "metadata": {},
   "source": [
    "### SM3. What is syslog?"
   ]
  },
  {
   "cell_type": "markdown",
   "metadata": {},
   "source": [
    "It is important that you understand the basics of what syslog is and how it works.  The syslog protocol is used extensively for logging in an enterprise and the **Rebound_DLP** appliance uses it.  If needed, do a little research on the Internet to better understand the concept."
   ]
  },
  {
   "cell_type": "markdown",
   "metadata": {},
   "source": [
    "### SM4. CSIA 440 Lab Setup"
   ]
  },
  {
   "cell_type": "markdown",
   "metadata": {},
   "source": [
    "For your virtualization software, you can use whatever solution you prefer.  Most students use either VirtualBox or VMWare Workstation.  ~~I will be using Parallels on a Mac.~~ <- I abhor this product now, so instead I will be using VMWare Fusion on a Mac. \n",
    "\n",
    "Be sure you understand the networking nuances of how you configure the virtual machines for whatever product you use.\n",
    "\n",
    "* For Parallels, use \"Shared\" networking and there is more documentation here: https://kb.parallels.com/en/4948.\n",
    "\n",
    "* For VirtualBox and VMWare, use \"NAT\" networking and there is more documentation here: https://www.thomas-krenn.com/en/wiki/Network_Configuration_in_VirtualBox.\n",
    "\n",
    "You will need to create an environment with three virtual machines: \n",
    "\n",
    "1. Kali Linux, Parrot Linux, or another \"Attack\" system.\n",
    "2. A \"Client\" system with a client operating system of your choice.\n",
    "3. The \"Rebound_DLP\" appliance (provided).\n",
    "\n",
    "These are the known use cases for this simple environment:\n",
    "\n",
    "* The \"Client\" system writes syslog events to the \"Rebound_DLP\" appliance.\n",
    "\n",
    "* The \"Client\" system also uses a web browser to access the web application on \"Rebound_DLP\"."
   ]
  },
  {
   "cell_type": "markdown",
   "metadata": {},
   "source": [
    "## Samples"
   ]
  },
  {
   "cell_type": "markdown",
   "metadata": {},
   "source": [
    "## Exercises"
   ]
  },
  {
   "cell_type": "markdown",
   "metadata": {},
   "source": [
    "Develop some general background information:\n",
    "\n",
    "**E1. As described in the \"CSIA 440 Scenario Overview\", provide a brief description of the company for your scenario and include a list of stakeholders.**\n",
    "\n",
    "**E2. Write a brief scope statement that includes the type of assessment (e.g. compliance, goals-based) and the methodology (e.g. white box, gray box).**\n",
    "\n",
    "**E3. Develop a system architecture diagram that shows the three systems, network addresses, and any known data flows.**\n",
    "\n",
    "Using the list of Statement of Work (SOW) items in bold on pgs 14-15 of PEN, write a brief statement for the following:\n",
    "\n",
    "**E4. Purpose**\n",
    "\n",
    "**E5. Scope of Work**\n",
    "\n",
    "**E6. Location of Work**\n",
    "\n",
    "**E7. Period of Performance**\n",
    "\n",
    "**E8. Deliverables Schedule**\n",
    "\n",
    "**E9. Applicable Industry Standards**\n",
    "\n",
    "Build the technical environment for use:\n",
    "\n",
    "**E10. Create the virtual lab environment with three virtual machines:**\n",
    "    1. Kali Linux, Parrot Linux, or another \"Attack\" system.\n",
    "    2. A \"Client\" system with a client operating system of your choice.\n",
    "    3. The \"Rebound_DLP\" appliance (provided).\n",
    "    \n",
    "From the \"Attack\" system, you should be able to ping both the \"Client\" and \"Rebound_DLP\" systems."
   ]
  }
 ],
 "metadata": {
  "kernelspec": {
   "display_name": "Python 3",
   "language": "python",
   "name": "python3"
  },
  "language_info": {
   "codemirror_mode": {
    "name": "ipython",
    "version": 3
   },
   "file_extension": ".py",
   "mimetype": "text/x-python",
   "name": "python",
   "nbconvert_exporter": "python",
   "pygments_lexer": "ipython3",
   "version": "3.7.2"
  }
 },
 "nbformat": 4,
 "nbformat_minor": 2
}
