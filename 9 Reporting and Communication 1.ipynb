{
 "cells": [
  {
   "cell_type": "markdown",
   "metadata": {},
   "source": [
    "# 10: Reporting and Communication 1"
   ]
  },
  {
   "cell_type": "markdown",
   "metadata": {},
   "source": [
    "## Core Readings"
   ]
  },
  {
   "cell_type": "markdown",
   "metadata": {},
   "source": [
    "1. PEN – ch. 12"
   ]
  },
  {
   "cell_type": "markdown",
   "metadata": {},
   "source": [
    "## Supplemental Materials"
   ]
  },
  {
   "cell_type": "markdown",
   "metadata": {},
   "source": [
    "### SM1. Guidance on the PEN readings"
   ]
  },
  {
   "cell_type": "markdown",
   "metadata": {},
   "source": [
    "The readings in PEN are a good overview of a penetration test report format and communication guidelines, but I will give you the specific requirements for our penetration report deliverable in the Exercises section below.\n",
    "\n",
    "For this course, we will NOT be writing a COMPLETE penetration test report.  Instead, we will focus on writing the key components of a penetration test report that are the most useful ( and usually the hardest to write well )."
   ]
  },
  {
   "cell_type": "markdown",
   "metadata": {},
   "source": [
    "## Samples"
   ]
  },
  {
   "cell_type": "markdown",
   "metadata": {},
   "source": [
    "* **S1. Create a risk rating framework for evaluating the penetration report findings.**"
   ]
  },
  {
   "cell_type": "markdown",
   "metadata": {},
   "source": [
    "I developed a Risk Rating Matrix with High, Moderate, and Low ratings for both Likelihood and Impact.\n",
    "\n",
    "![](img/m9_Slide1.jpeg)"
   ]
  },
  {
   "cell_type": "markdown",
   "metadata": {},
   "source": [
    "* **S2. Update the risk rating framework to include descriptions.**"
   ]
  },
  {
   "cell_type": "markdown",
   "metadata": {},
   "source": [
    "In these examples, I am providing very GENERIC and NOT HELPFUL language.  If you use this approach, you need to edit the descriptions to make them applicable to this deliverable.\n",
    "\n",
    "One approach is to me more subjective:\n",
    "\n",
    "![](img/m9_Slide2.jpeg)\n",
    "\n",
    "Or, a second way would be more objective:\n",
    "\n",
    "![](img/m9_Slide3.jpeg)\n",
    "\n",
    "Do you see the difference?"
   ]
  },
  {
   "cell_type": "markdown",
   "metadata": {},
   "source": [
    "* **S3. Update the risk rating framework to include risk treatments.**"
   ]
  },
  {
   "cell_type": "markdown",
   "metadata": {},
   "source": [
    "The risk treatments are dependent on how the ratings are defined.  There are a few different ways to do this.\n",
    "\n",
    "Here is one way:\n",
    "\n",
    "![](img/m9_Slide4.jpeg)"
   ]
  },
  {
   "cell_type": "markdown",
   "metadata": {},
   "source": [
    "**S4. Update the risk rating framework to include definitions for the risk treatments.**"
   ]
  },
  {
   "cell_type": "markdown",
   "metadata": {},
   "source": [
    "Remember, these treatments must be defined. Otherwise, they are not all that helpful.\n",
    "\n",
    "![](img/m9_Slide5.jpeg)"
   ]
  },
  {
   "cell_type": "markdown",
   "metadata": {},
   "source": [
    "* **S5. Create a findings table with a Finding, Likelihood, Impact, and Treatment column.  Add a finding and complete the Likelihood, Impact, and Treatment columns based on the risk rating framework.**"
   ]
  },
  {
   "cell_type": "markdown",
   "metadata": {},
   "source": [
    "Here is one example.  Make sure you understand how the Treatment column was determined.\n",
    "\n",
    "![](img/m9_Slide6.jpeg)"
   ]
  },
  {
   "cell_type": "markdown",
   "metadata": {},
   "source": [
    "## Exercises"
   ]
  },
  {
   "cell_type": "markdown",
   "metadata": {},
   "source": [
    "**E1. Create YOUR risk rating framework for evaluating the penetration report findings.**"
   ]
  },
  {
   "cell_type": "markdown",
   "metadata": {},
   "source": []
  },
  {
   "cell_type": "markdown",
   "metadata": {},
   "source": [
    "**E2. Update YOUR risk rating framework to include descriptions.**"
   ]
  },
  {
   "cell_type": "markdown",
   "metadata": {},
   "source": []
  },
  {
   "cell_type": "markdown",
   "metadata": {},
   "source": [
    "**E3. Update YOUR risk rating framework to include risk treatments.**"
   ]
  },
  {
   "cell_type": "markdown",
   "metadata": {},
   "source": []
  },
  {
   "cell_type": "markdown",
   "metadata": {},
   "source": [
    "**E4. Update YOUR risk rating framework to include definitions for the risk treatments.**"
   ]
  },
  {
   "cell_type": "markdown",
   "metadata": {},
   "source": []
  },
  {
   "cell_type": "markdown",
   "metadata": {},
   "source": [
    "Create a findings table with a Finding, Likelihood, Impact, and Treatment column.\n",
    "\n",
    "**E5-E9. Complete the Findings column with YOUR top five findings from your penetration testing of \"Rebound_DLP\" and Rebound Security.**"
   ]
  },
  {
   "cell_type": "markdown",
   "metadata": {},
   "source": []
  },
  {
   "cell_type": "markdown",
   "metadata": {},
   "source": [
    "**E10. Based on YOUR risk rating framwork, complete the Likelihood, Impact, and Treatment columns in the findings table for each Finding.**"
   ]
  },
  {
   "cell_type": "markdown",
   "metadata": {},
   "source": []
  }
 ],
 "metadata": {
  "kernelspec": {
   "display_name": "Python 3",
   "language": "python",
   "name": "python3"
  },
  "language_info": {
   "codemirror_mode": {
    "name": "ipython",
    "version": 3
   },
   "file_extension": ".py",
   "mimetype": "text/x-python",
   "name": "python",
   "nbconvert_exporter": "python",
   "pygments_lexer": "ipython3",
   "version": "3.7.2"
  }
 },
 "nbformat": 4,
 "nbformat_minor": 2
}
