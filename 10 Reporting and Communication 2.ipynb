{
 "cells": [
  {
   "cell_type": "markdown",
   "metadata": {},
   "source": [
    "# 10: Reporting and Communication 2"
   ]
  },
  {
   "cell_type": "markdown",
   "metadata": {},
   "source": [
    "## Core Readings"
   ]
  },
  {
   "cell_type": "markdown",
   "metadata": {},
   "source": [
    "1. PEN – ch. 12"
   ]
  },
  {
   "cell_type": "markdown",
   "metadata": {},
   "source": [
    "## Supplemental Materials"
   ]
  },
  {
   "cell_type": "markdown",
   "metadata": {},
   "source": [
    "### SM1. Reminder on the PEN readings"
   ]
  },
  {
   "cell_type": "markdown",
   "metadata": {},
   "source": [
    "The readings in PEN are a good overview of a penetration test report format and communication guidelines, but I will give you the specific requirements for our penetration report deliverable in the Exercises section below.\n",
    "\n",
    "For this course, we will NOT be writing a COMPLETE penetration test report.  Instead, we will focus on writing the key components of a penetration test report that are the most useful ( and usually the hardest to write well )."
   ]
  },
  {
   "cell_type": "markdown",
   "metadata": {},
   "source": [
    "### SM2. The Executive Summary as an Expository Paragraph"
   ]
  },
  {
   "cell_type": "markdown",
   "metadata": {},
   "source": [
    "The ability to write clearly and concisely is mandatory for security professionals.  There is no better place to practice this in writing an executive summary for a penetration testing report in the format of an expository paragraph.\n",
    "\n",
    "Numerous online examples abound, but the basic structure is a five-sentence third-person objective and informative narrative, with the following sentence structure:\n",
    "\n",
    "1. Topic Sentence\n",
    "2. Supporting Sentence 1\n",
    "3. Supporting Sentence 2\n",
    "4. Supporting Sentence 3\n",
    "5. Concluding Sentence\n",
    "\n",
    "In essence, you are distilling the entire report's highlights into five sentences.  This can be challenging.\n",
    "\n",
    "When developing your submission, ask yourself the following questions:\n",
    "\n",
    "* Does the writing sound professional, objective, and in third-person?\n",
    "* Is there an introductory, three supporting, and a concluding sentence? \n",
    "* Does the paragraph adequately summarize the penetration test highlights?\n",
    "* Is the paragraph clean from typos and grammatical errors?"
   ]
  },
  {
   "cell_type": "markdown",
   "metadata": {},
   "source": [
    "## Samples"
   ]
  },
  {
   "cell_type": "markdown",
   "metadata": {},
   "source": [
    "* **S1. Add a Remediation column to the findings table.  Develop an appropriate remediation for a finding based on the description and risk.**"
   ]
  },
  {
   "cell_type": "markdown",
   "metadata": {},
   "source": [
    "This example finding is high-level and broad, making the Remediation more extensive.\n",
    "\n",
    "\n",
    "![](img/m10_Slide1.jpeg)"
   ]
  },
  {
   "cell_type": "markdown",
   "metadata": {},
   "source": [
    "## Exercises"
   ]
  },
  {
   "cell_type": "markdown",
   "metadata": {},
   "source": [
    "Add a Remediation column to the findings table. \n",
    "\n",
    "**E1-E5. Complete the Remediation column for each finding.**"
   ]
  },
  {
   "cell_type": "markdown",
   "metadata": {},
   "source": []
  },
  {
   "cell_type": "markdown",
   "metadata": {},
   "source": [
    "**E6-E10. Write an executive summary of the penetration test report as a three-point expository paragraph.**\n",
    "\n",
    "* **E6. Topic Sentence**\n",
    "\n",
    "* **E7. Supporting Sentence 1**\n",
    "\n",
    "* **E8. Supporting Sentence 2**\n",
    "\n",
    "* **E9. Supporting Sentence 3**\n",
    "\n",
    "* **E10. Concluding Sentence**"
   ]
  },
  {
   "cell_type": "markdown",
   "metadata": {},
   "source": []
  }
 ],
 "metadata": {
  "kernelspec": {
   "display_name": "Python 3",
   "language": "python",
   "name": "python3"
  },
  "language_info": {
   "codemirror_mode": {
    "name": "ipython",
    "version": 3
   },
   "file_extension": ".py",
   "mimetype": "text/x-python",
   "name": "python",
   "nbconvert_exporter": "python",
   "pygments_lexer": "ipython3",
   "version": "3.7.2"
  }
 },
 "nbformat": 4,
 "nbformat_minor": 2
}
