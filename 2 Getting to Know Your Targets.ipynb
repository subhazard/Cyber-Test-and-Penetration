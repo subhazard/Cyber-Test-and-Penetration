{
 "cells": [
  {
   "cell_type": "markdown",
   "metadata": {},
   "source": [
    "# 2: Getting to Know Your Targets"
   ]
  },
  {
   "cell_type": "markdown",
   "metadata": {},
   "source": [
    "## Core Readings"
   ]
  },
  {
   "cell_type": "markdown",
   "metadata": {},
   "source": [
    "1. PEN – ch. 2"
   ]
  },
  {
   "cell_type": "markdown",
   "metadata": {},
   "source": [
    "## Supplemental Materials"
   ]
  },
  {
   "cell_type": "markdown",
   "metadata": {},
   "source": [
    "### SM1. CSIA 440 Scenario Overview (2)"
   ]
  },
  {
   "cell_type": "markdown",
   "metadata": {},
   "source": [
    "This week, you will focus on reconniassance about the Rebound Security organization.  \n",
    "\n",
    "Use your book as needed for background on the lab exercises.\n",
    "\n",
    "**!!**\n",
    "\n",
    "**!!REMEMBER: You do NOT have permission to attempt \"breaking\" the reboundsecurity.info website!!**  \n",
    "\n",
    "**!!**\n",
    "\n",
    "**In the real world, this would lead to IMMEDIATE termination and possible civil and criminal charges.**\n",
    "\n",
    "In other words, complete the lab exercises as is, and do not embellish."
   ]
  },
  {
   "cell_type": "markdown",
   "metadata": {},
   "source": [
    "## Samples"
   ]
  },
  {
   "cell_type": "markdown",
   "metadata": {},
   "source": [
    "* **S1. Configure syslog on an Ubuntu \"Client\" system to write syslog events to the \"Rebound_DLP\" appliance.**"
   ]
  },
  {
   "cell_type": "markdown",
   "metadata": {},
   "source": [
    "1. Using sudo, edit the syslog config file.\n",
    "> sudo vi /etc/rsyslog.d/50-default.conf\n",
    "\n",
    "2. For ease, I will send all messages to the Rebound_DLP appliance.\n",
    "> \\*.\\* @10.211.55.7:514\n",
    "\n",
    "3. Restart rsyslogd for the settings to take effect.\n",
    "> sudo service rsyslog restart "
   ]
  },
  {
   "cell_type": "markdown",
   "metadata": {},
   "source": [
    "* **S2. Generate syslog events from an Ubuntu \"Client\" system.**"
   ]
  },
  {
   "cell_type": "markdown",
   "metadata": {},
   "source": [
    "1. Use the logger command.\n",
    "\n",
    "> logger [options] [message]\n",
    "\n",
    "> logger 'Write message to Rebound_DLP'\n",
    "\n",
    "2. Use the syslog module in Python.\n",
    "\n",
    "```python\n",
    "# python code\n",
    "import syslog\n",
    "syslog.syslog('Write message to Rebound_DLP')\n",
    "```"
   ]
  },
  {
   "cell_type": "markdown",
   "metadata": {},
   "source": [
    "## Exercises"
   ]
  },
  {
   "cell_type": "markdown",
   "metadata": {},
   "source": [
    "Configure the technical environment for use:\n",
    "\n",
    "1. Obtain the IP address for the \"Rebound_DLP\" appliance.  How can you do this?\n",
    "2. Configure the \"Client\" system to write syslog events to the \"Rebound_DLP\" appliance.\n",
    "3. Generate 3-5 syslog events on the \"Client\".\n",
    "\n",
    "Unfortunately, your DLP engineer was terminated last Friday for cause and left no documentation that you can find anywhere.\n",
    "\n",
    "4. Is there a way to confirm that the \"Client\" syslog data is being sent to the \"Rebound_DLP\" appliance without actually accessing the appliance?  Explain.\n",
    "\n",
    "Get to know your target:\n",
    "\n",
    "5. Run a \"whois\" on reboundsecurity.info. Is there any useful information? \n",
    "6. Run \"nslookup\" on reboundsecurity.info. Where is this website hosted?\n",
    "7. Using the \"Attack\" system, run \"theharvester\" on reboundsecurity.info. Is there any useful information?\n",
    "8. Browse the reboundsecurity.info website and note any useful information.\n",
    "9. Are there any documents on the website that could be helpful for the penetration test?\n",
    "10. What is metadata analysis and is it helpful for scenarios like this?"
   ]
  }
 ],
 "metadata": {
  "kernelspec": {
   "display_name": "Python 3",
   "language": "python",
   "name": "python3"
  },
  "language_info": {
   "codemirror_mode": {
    "name": "ipython",
    "version": 3
   },
   "file_extension": ".py",
   "mimetype": "text/x-python",
   "name": "python",
   "nbconvert_exporter": "python",
   "pygments_lexer": "ipython3",
   "version": "3.7.2"
  }
 },
 "nbformat": 4,
 "nbformat_minor": 2
}
