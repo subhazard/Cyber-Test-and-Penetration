{
 "cells": [
  {
   "cell_type": "markdown",
   "metadata": {},
   "source": [
    "# 8: Attacking Local Host Vulnerabilities"
   ]
  },
  {
   "cell_type": "markdown",
   "metadata": {},
   "source": [
    "## Core Readings"
   ]
  },
  {
   "cell_type": "markdown",
   "metadata": {},
   "source": [
    "1. PEN – ch. 10"
   ]
  },
  {
   "cell_type": "markdown",
   "metadata": {},
   "source": [
    "## Supplemental Materials"
   ]
  },
  {
   "cell_type": "markdown",
   "metadata": {},
   "source": [
    "### SM1. Guidance on the PEN readings"
   ]
  },
  {
   "cell_type": "markdown",
   "metadata": {},
   "source": [
    "The readings this week are long and detailed, but very good in terms of the content.  For the exercises below, we will focus on some specific sections related to Linux."
   ]
  },
  {
   "cell_type": "markdown",
   "metadata": {},
   "source": [
    "## Samples"
   ]
  },
  {
   "cell_type": "markdown",
   "metadata": {},
   "source": [
    "## Exercises"
   ]
  },
  {
   "cell_type": "markdown",
   "metadata": {},
   "source": [
    "Continue your testing by completing the following.\n",
    "\n",
    "Gather some more information on the appliance vulnerabilities.\n",
    "\n",
    "**E1. Download LinEnum, run the script, and redirect the output to a file.**\n",
    "\n",
    "**E2. Download linux-exploit-suggester, run the script, and redirect the output to a file.**\n",
    "\n",
    "**E3. The tool linux-exploit-suggester shows that the appliance is vulnerable to the DirtyCOW vulnerability.**\n",
    "\n",
    "Attempt privilege escalation by using the DirtyCOW vulnerability.  \n",
    "\n",
    "**E4. Use the blueprint in PEN on pgs. 279-282 as a starting point.  Follow the directions carefully, modifying them if needed.**  \n",
    "\n",
    "!!!BE SURE TO TAKE A SNAPSHOT OF THE VIRTUAL MACHINE BEFORE ATTEMPTING TO RUN THE EXPLOIT!!!\n",
    "\n",
    "**E5. If \"Rebound_DLP\" was a real appliance in a real world, why would a penetration tester never run the actual exploit (though an attacker might!)?**\n",
    "\n",
    "Rebound Security has made the claim that 'sudo' is a very strong security control that mitigates a lot of the technical risk with the appliance.  Show Rebound Security a simple way to bypass some 'sudo' assumptions: \n",
    "\n",
    "**E6. Create a new user in the \"Rebound_DLP\" appliance and add them to the sudoers file. Configure the user so that a password prompt is not required for 'sudo' use.**\n",
    "\n",
    "Apparently, one of the administrators installed netcat on the \"Rebound_DLP\" appliance during its development.  One attack vector could be to start a TCP listener on \"Rebound_DLP\" and connect to the designated port using the \"Attack\" system.\n",
    "\n",
    "**E7. What are some technical challenges with this approach, both \"locally\" and from an enterprise monitoring perspective?**\n",
    "\n",
    "**E8. Given the services that are already installed and running, what would be a better way to transfer data from the \"Rebound_DLP\" appliance to the \"Attack\" system?**\n",
    "\n",
    "**E9. Find the 'phi.csv' file on the \"Rebound_DLP\" filesystem and move it to the \"Attack\" system using either netcat or this 'better' approach.**\n",
    "\n",
    "The textbook PEN provides some commands to unset the history file during a penetration test.  It talks about how to do this at the end of the chapter which, funny enough, is something that should be done at the start.\n",
    "\n",
    "**E10. If you forgot to do this step during the initial access of the appliance, how could you \"cover your tracks\" by erasing the history of your commands?**"
   ]
  }
 ],
 "metadata": {
  "kernelspec": {
   "display_name": "Python 3",
   "language": "python",
   "name": "python3"
  },
  "language_info": {
   "codemirror_mode": {
    "name": "ipython",
    "version": 3
   },
   "file_extension": ".py",
   "mimetype": "text/x-python",
   "name": "python",
   "nbconvert_exporter": "python",
   "pygments_lexer": "ipython3",
   "version": "3.7.2"
  }
 },
 "nbformat": 4,
 "nbformat_minor": 2
}
