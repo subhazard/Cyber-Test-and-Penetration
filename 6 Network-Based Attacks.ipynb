{
 "cells": [
  {
   "cell_type": "markdown",
   "metadata": {},
   "source": [
    "# 6: Network-Based Attacks"
   ]
  },
  {
   "cell_type": "markdown",
   "metadata": {},
   "source": [
    "## Core Readings"
   ]
  },
  {
   "cell_type": "markdown",
   "metadata": {},
   "source": [
    "1. PEN – ch. 7"
   ]
  },
  {
   "cell_type": "markdown",
   "metadata": {},
   "source": [
    "## Supplemental Materials"
   ]
  },
  {
   "cell_type": "markdown",
   "metadata": {},
   "source": [
    "### SM1. Guidance on the PEN readings"
   ]
  },
  {
   "cell_type": "markdown",
   "metadata": {},
   "source": [
    "The exercises are NOT dependent on the PEN readings this week.  My recommendation is that you review and understand the material, with the underlying assumption that it is mostly informational."
   ]
  },
  {
   "cell_type": "markdown",
   "metadata": {},
   "source": [
    "### SM2. Guidance on article summaries"
   ]
  },
  {
   "cell_type": "markdown",
   "metadata": {},
   "source": [
    "* Make sure you follow the requirements accurately and completely as details are important for security professionals.\n",
    "\n",
    "* If you follow the directions, you should have five sentences for each article summary.\n",
    "\n",
    "* You are free to use whatever online resources you prefer as long as they are reputable.  Searching Google News for topics can be useful.\n",
    "\n",
    "* If you are interested, or planning on graduate school, then more scholarly sources can be found by searching Google Scholar (https://scholar.google.com), the SANS reading room (https://www.sans.org/reading-room), or arXiv (https://arxiv.org/list/cs.CR/recent). "
   ]
  },
  {
   "cell_type": "markdown",
   "metadata": {},
   "source": [
    "## Samples"
   ]
  },
  {
   "cell_type": "markdown",
   "metadata": {},
   "source": [
    "* **Create an article summary on the topic of network-based attacks and \"IoT\":**"
   ]
  },
  {
   "cell_type": "markdown",
   "metadata": {},
   "source": [
    "* **SM1. ARTICLE SUMMARY - Select an article or paper and provide the title, author(s), and source as ONE complete sentence.**"
   ]
  },
  {
   "cell_type": "markdown",
   "metadata": {},
   "source": [
    "The technical paper I chose is titled \"Internet of Things Security Problems\" by M. Dini and V. Sokolov and is available on arXiv at https://arxiv.org/pdf/1902.08597."
   ]
  },
  {
   "cell_type": "markdown",
   "metadata": {},
   "source": [
    "* **SM2. ARTICLE SUMMARY - Write a one-sentence summary of the first main point.**\n",
    "\n",
    "**NOTE: I am only showing one point.  You will need to write three in your exercises below.**"
   ]
  },
  {
   "cell_type": "markdown",
   "metadata": {},
   "source": [
    "Devices used within the internet of things (IoT) are high-risk due to unchanged default passwords which exposes them to multiple attack vectors."
   ]
  },
  {
   "cell_type": "markdown",
   "metadata": {},
   "source": [
    "* **SM3. ARTICLE SUMMARY - Write a one-sentence outcome or summary statement that is actionable from this article.**"
   ]
  },
  {
   "cell_type": "markdown",
   "metadata": {},
   "source": [
    "Where possible, developers of IoT devices should implement stronger identification and authentication controls, including digital certificates and secure IoT gateways."
   ]
  },
  {
   "cell_type": "markdown",
   "metadata": {},
   "source": [
    "## Exercises"
   ]
  },
  {
   "cell_type": "markdown",
   "metadata": {},
   "source": [
    "The ability to read and summarize technical security material is critical for all security professionals, and especially penetration testers.\n",
    "\n",
    "Create an article summary on the topic of **network-based attacks and \"blockchain\"**:\n",
    "\n",
    "**E1. Select an article or paper and provide the title, author(s), and source as ONE complete sentence.**\n",
    "\n",
    "Select three main points and write a ONE sentence summary for each.\n",
    "\n",
    "**E2. Write a one-sentence summary of the first main point.**\n",
    "\n",
    "**E3. Write a one-sentence summary of the second main point.**\n",
    "\n",
    "**E4. Write a one-sentence summary of the third main point.**\n",
    "\n",
    "Describe an outcome from the article.\n",
    "\n",
    "**E5. Write a one-sentence outcome or summary statement that is actionable from this article.**\n",
    "\n",
    "Create an article summary on the topic of **network-based attacks and \"IoT\"**:\n",
    "\n",
    "**E6. Select an article or paper and provide the title, author(s), and source as ONE complete sentence.**\n",
    "\n",
    "Select three main points and write a ONE sentence summary for each.\n",
    "\n",
    "**E7. Write a one-sentence summary of the first main point.**\n",
    "\n",
    "**E8. Write a one-sentence summary of the second main point.**\n",
    "\n",
    "**E9. Write a one-sentence summary of the third main point.**\n",
    "\n",
    "Describe an outcome from the article.\n",
    "\n",
    "**E10. Write a one-sentence outcome or summary statement that is actionable from this article.**"
   ]
  }
 ],
 "metadata": {
  "kernelspec": {
   "display_name": "Python 3",
   "language": "python",
   "name": "python3"
  },
  "language_info": {
   "codemirror_mode": {
    "name": "ipython",
    "version": 3
   },
   "file_extension": ".py",
   "mimetype": "text/x-python",
   "name": "python",
   "nbconvert_exporter": "python",
   "pygments_lexer": "ipython3",
   "version": "3.7.2"
  }
 },
 "nbformat": 4,
 "nbformat_minor": 2
}
