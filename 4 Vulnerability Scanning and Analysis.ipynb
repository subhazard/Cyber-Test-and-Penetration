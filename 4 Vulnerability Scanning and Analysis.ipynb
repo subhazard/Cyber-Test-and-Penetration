{
 "cells": [
  {
   "cell_type": "markdown",
   "metadata": {},
   "source": [
    "# 4: Vulnerability Scanning and Analysis"
   ]
  },
  {
   "cell_type": "markdown",
   "metadata": {},
   "source": [
    "## Core Readings"
   ]
  },
  {
   "cell_type": "markdown",
   "metadata": {},
   "source": [
    "1. PEN – ch. 4"
   ]
  },
  {
   "cell_type": "markdown",
   "metadata": {},
   "source": [
    "## Supplemental Materials"
   ]
  },
  {
   "cell_type": "markdown",
   "metadata": {},
   "source": [
    "### SM1. Getting OpenVAS Running..."
   ]
  },
  {
   "cell_type": "markdown",
   "metadata": {},
   "source": [
    "Please consult online resources as needed, but here are a few notes to help:\n",
    "\n",
    "1. Install OpenVAS if needed.  You will need to install it with Kali.  Parrot includes it already by default.\n",
    "\n",
    "2. Run 'openvas-setup' as root. This will download the latest rule sets, create an admin user, and start up the various requisite services. Given that this is a VM, it will probably take some time, so plan accordingly.\n",
    "\n",
    "3. Change the admin password to something more useful by running the command 'openvasmd --user=admin --new-password=somethinguseful' as root.\n",
    "\n",
    "4. Run the following commands as root and as needed to ensure OpenVAS is working properly: 'openvasmd --rebuild', 'openvas-check-setup', and 'openvas-stop'.\n",
    "\n",
    "5. Run 'openvas-start' as root and then open the web interface using the URL provided from the command output."
   ]
  },
  {
   "cell_type": "markdown",
   "metadata": {},
   "source": [
    "## Samples"
   ]
  },
  {
   "cell_type": "markdown",
   "metadata": {},
   "source": [
    "## Exercises"
   ]
  },
  {
   "cell_type": "markdown",
   "metadata": {},
   "source": [
    "From the readings and, perhaps, your own analysis:\n",
    "\n",
    "**E1. What are some disadvantages of uncredentialed vulnerability scans?**\n",
    "\n",
    "**E2. Why should organizations establish their own risk ratings for reported vulnerabilities?**\n",
    "\n",
    "**E3. Why should SCADA systems be isolated from corporate networks (see NIST SP800-82 if needed)?**\n",
    "\n",
    "**E4. Why are RTOS systems challenging to update and secure?**\n",
    "\n",
    "Use OpenVAS to scan \"Rebound_DLP\" for vulnerabilities:\n",
    "\n",
    "**E5. If needed, install OpenVAS on your \"Attack\" system.  Confirm it is working properly by connecting to the OpenVAS Web Interface.**\n",
    "\n",
    "**E6. Run an uncredentialed scan of the \"Rebound_DLP\" appliance and list the vulnerabilities reported.**\n",
    "\n",
    "**E7. What does the value in the Severity column mean?**\n",
    "\n",
    "**E8. Do any of the vulnerabilities seem easily exploitable? Why or why not?**\n",
    "\n",
    "**E9. Pick a vulnerability and describe the mitigation(s) that should be implemented to address the risk.**\n",
    "\n",
    "**E10. What would you expect to see differently in the report if you had the ability to run a credentialed scan?**"
   ]
  }
 ],
 "metadata": {
  "kernelspec": {
   "display_name": "Python 3",
   "language": "python",
   "name": "python3"
  },
  "language_info": {
   "codemirror_mode": {
    "name": "ipython",
    "version": 3
   },
   "file_extension": ".py",
   "mimetype": "text/x-python",
   "name": "python",
   "nbconvert_exporter": "python",
   "pygments_lexer": "ipython3",
   "version": "3.7.2"
  }
 },
 "nbformat": 4,
 "nbformat_minor": 2
}
