{
 "cells": [
  {
   "cell_type": "markdown",
   "metadata": {},
   "source": [
    "# 3: Network Scanning and Enumeration"
   ]
  },
  {
   "cell_type": "markdown",
   "metadata": {},
   "source": [
    "## Core Readings"
   ]
  },
  {
   "cell_type": "markdown",
   "metadata": {},
   "source": [
    "1. PEN – ch. 3"
   ]
  },
  {
   "cell_type": "markdown",
   "metadata": {},
   "source": [
    "## Supplemental Materials"
   ]
  },
  {
   "cell_type": "markdown",
   "metadata": {},
   "source": [
    "### SM1. CSIA 440 Scenario Overview (3)"
   ]
  },
  {
   "cell_type": "markdown",
   "metadata": {},
   "source": [
    "Most organizations have an automated asset discovery and management tool. This would be a known repository of systems, system metadata, and networking information, including IP addresses.\n",
    "\n",
    "This week, we are going to assume we do NOT have this capability, and instead, we will use some host discovery tools to obtain similar information.\n",
    "\n",
    "Learning to do host discovery is actually quite useful.  The reality is most penetration tests use this step to verify provided information and most organizations use a similar function to look for rogue systems.\n",
    "\n",
    "Make sure you understand the networking nuances and Nmap specifics.  Nmap is a very useful tool for security professionals.  Use your book and online resources (e.g. https://nmap.org/book/man.html) as needed to make sure you can handle it proficiently."
   ]
  },
  {
   "cell_type": "markdown",
   "metadata": {},
   "source": [
    "## Samples"
   ]
  },
  {
   "cell_type": "markdown",
   "metadata": {},
   "source": [
    "## Exercises"
   ]
  },
  {
   "cell_type": "markdown",
   "metadata": {},
   "source": [
    "Perform network scanning and enumeration:\n",
    "1. Use your \"Attack\" system to get the /24 network address.\n",
    "2. Run a Nmap ping scan on the /24 network to see which hosts are \"up\".\n",
    "3. For the \"Rebound_DLP\" system, run a Nmap TCP full connect scan.\n",
    "\n",
    "The \"Rebound_DLP\" system has TCP ports 80 and 443 open. \n",
    "4. What services are these used for?\n",
    "5. What are the risks with these services?\n",
    "\n",
    "The \"Rebound_DLP\" system has TCP port 22 open. \n",
    "6. What service is this used for?\n",
    "7. What are the risks with this service?\n",
    "\n",
    "The \"Rebound_DLP\" system has TCP port 514 open. \n",
    "8. What service is this used for?\n",
    "9. What are the risks with this service?\n",
    "\n",
    "Finally, run a UDP scan.\n",
    "\n",
    "10. For the \"Rebound_DLP\" system, run a Nmap UDP scan for DNS, DHCP, and NetBIOS ports.  What does their reported state mean?"
   ]
  }
 ],
 "metadata": {
  "kernelspec": {
   "display_name": "Python 3",
   "language": "python",
   "name": "python3"
  },
  "language_info": {
   "codemirror_mode": {
    "name": "ipython",
    "version": 3
   },
   "file_extension": ".py",
   "mimetype": "text/x-python",
   "name": "python",
   "nbconvert_exporter": "python",
   "pygments_lexer": "ipython3",
   "version": "3.7.2"
  }
 },
 "nbformat": 4,
 "nbformat_minor": 2
}
