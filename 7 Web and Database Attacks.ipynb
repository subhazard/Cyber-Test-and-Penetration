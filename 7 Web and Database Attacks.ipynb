{
 "cells": [
  {
   "cell_type": "markdown",
   "metadata": {},
   "source": [
    "# 7: Web and Database Attacks"
   ]
  },
  {
   "cell_type": "markdown",
   "metadata": {},
   "source": [
    "## Core Readings"
   ]
  },
  {
   "cell_type": "markdown",
   "metadata": {},
   "source": [
    "1. PEN – ch. 9"
   ]
  },
  {
   "cell_type": "markdown",
   "metadata": {},
   "source": [
    "## Supplemental Materials"
   ]
  },
  {
   "cell_type": "markdown",
   "metadata": {},
   "source": [
    "### SM1. Guidance on the PEN readings"
   ]
  },
  {
   "cell_type": "markdown",
   "metadata": {},
   "source": [
    "The exercises are NOT **DIRECTLY** dependent on the PEN readings this week, but there is some very good background material provided.  \n",
    "\n",
    "Make sure you understand the following three key concepts before attempting the exercises:\n",
    "\n",
    "1. Be able to use basic SQL syntax.\n",
    "\n",
    "2. Be able to connect to a MariaDB database.  MariaDB is a fork of MySQL and the syntax is given in PEN on p. 234.\n",
    "\n",
    "3. Be able to understand the usefulness of directory browsing and how it can be attempted on an Apache server.  There is a good introduction in PEN starting on p. 253. "
   ]
  },
  {
   "cell_type": "markdown",
   "metadata": {},
   "source": [
    "## Samples"
   ]
  },
  {
   "cell_type": "markdown",
   "metadata": {},
   "source": [
    "## Exercises"
   ]
  },
  {
   "cell_type": "markdown",
   "metadata": {},
   "source": [
    "Hopefully, by now, you have obtained credentials to be able to login to the \"Rebound_DLP\" appliance.\n",
    "\n",
    "Continue your testing by completing the following.\n",
    "\n",
    "Start with the web server.\n",
    "\n",
    "1. What version of Apache is the appliance running?\n",
    "2. Find the httpd.conf file and look at the configuration for the DLP web application. Is directory browsing enabled?\n",
    "3. From the \"Attack\" system, is it possible to list the contents of dlp/logs/? Why or why not?\n",
    "4. The Rebound_DLP appliance can use https (though it is not required).  What is the risk with how https is configured currently for the appliance?\n",
    "\n",
    "Now, move on to the database server.\n",
    "\n",
    "Rebound Security has made the claim that, even with login access to the appliance, the databases are \"secure\" because authentication is done by the database independent of the operating system.  This is a bold (and untrue!) assertion.\n",
    "\n",
    "5. Can you connect to MariaDB with the credentials you have obtained so far?\n",
    "6. Show that Rebound Security's claim above is inaccurate by obtaining access to the MariaDB database repository.\n",
    "7. What version of MariaDB is the appliance running?\n",
    "8. Show the database that would be most interesting to a penetration tester or an attacker.\n",
    "9. Can you connect to the databases remotely from the \"Attack\" system?\n",
    "10. Why or why not?"
   ]
  }
 ],
 "metadata": {
  "kernelspec": {
   "display_name": "Python 3",
   "language": "python",
   "name": "python3"
  },
  "language_info": {
   "codemirror_mode": {
    "name": "ipython",
    "version": 3
   },
   "file_extension": ".py",
   "mimetype": "text/x-python",
   "name": "python",
   "nbconvert_exporter": "python",
   "pygments_lexer": "ipython3",
   "version": "3.7.2"
  }
 },
 "nbformat": 4,
 "nbformat_minor": 2
}
