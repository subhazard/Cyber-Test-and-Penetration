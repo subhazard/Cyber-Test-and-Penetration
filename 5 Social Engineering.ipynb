{
 "cells": [
  {
   "cell_type": "markdown",
   "metadata": {},
   "source": [
    "# 6: Social Engineering"
   ]
  },
  {
   "cell_type": "markdown",
   "metadata": {},
   "source": [
    "## Core Readings"
   ]
  },
  {
   "cell_type": "markdown",
   "metadata": {},
   "source": [
    "1. PEN – ch. 6"
   ]
  },
  {
   "cell_type": "markdown",
   "metadata": {},
   "source": [
    "## Supplemental Materials"
   ]
  },
  {
   "cell_type": "markdown",
   "metadata": {},
   "source": [
    "### SM1. CSIA 440 Scenario Overview (4)"
   ]
  },
  {
   "cell_type": "markdown",
   "metadata": {},
   "source": [
    "Normally, internal penetration testing of a product does NOT extend to the vendor's infrastructure or personnel.  \n",
    "\n",
    "However, for our scenario, Rebound Security has granted special permission for the use of social engineering tactics against their personnel.  We will focus on phishing emails given their widespread use and effectiveness.\n",
    "\n",
    "When you are designing any campaign, it is essential to remember what the desired outcome is.  While counting click-throughs on a document or delivering malware is certainly interesting, gathering credentials for the \"Rebound_DLP\" appliance could be very helpful."
   ]
  },
  {
   "cell_type": "markdown",
   "metadata": {},
   "source": [
    "## Samples"
   ]
  },
  {
   "cell_type": "markdown",
   "metadata": {},
   "source": [
    "## Exercises"
   ]
  },
  {
   "cell_type": "markdown",
   "metadata": {},
   "source": [
    "From the readings and, perhaps, your own analysis:\n",
    "\n",
    "1. What is a technical challenge with using \"waterholing\" as a social engineering tactic?\n",
    "2. What is the difference between spear fishing and whaling?\n",
    "3. Of the five motivational techniques presented in your textbook, which do you think is the most effective and why?\n",
    "\n",
    "Use a phishing campaign against Rebound Security:\n",
    "\n",
    "4. Pick one of the motivation techniques from your textbook and write a specific example phishing email for use against Rebound Security.\n",
    "5. Pick ANOTHER one of the motivation techniques from your textbook and write a specific example phishing email for use against Rebound Security.\n",
    "6. Create a phishing campaign using the tool of your choice (e.g. SET, other phishing simulators, or even a manual approach).  Describe how this campaign will work and include examples and screenshots as needed.\n",
    "7. Send the two example phishing emails from 4. and 5. above to any reboundsecurity.info email addresses that have been discovered from the testing so far.\n",
    "8. How many total emails did you send?  This simple calculation should be two emails multiplied by the number of email addresses.\n",
    "9. What are \"average\" response rates for phishing emails out \"in the wild\"? Research this question and cite any references you use.\n",
    "10. What response rate do you expect from your phishing campaign and why?"
   ]
  }
 ],
 "metadata": {
  "kernelspec": {
   "display_name": "Python 3",
   "language": "python",
   "name": "python3"
  },
  "language_info": {
   "codemirror_mode": {
    "name": "ipython",
    "version": 3
   },
   "file_extension": ".py",
   "mimetype": "text/x-python",
   "name": "python",
   "nbconvert_exporter": "python",
   "pygments_lexer": "ipython3",
   "version": "3.7.2"
  }
 },
 "nbformat": 4,
 "nbformat_minor": 2
}
